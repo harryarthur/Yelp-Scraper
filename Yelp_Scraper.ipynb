{
 "cells": [
  {
   "cell_type": "code",
   "execution_count": 1,
   "metadata": {},
   "outputs": [],
   "source": [
    "import requests\n",
    "import csv\n",
    "import re\n",
    "import pandas as pd\n",
    "import time\n",
    "from bs4 import BeautifulSoup\n",
    "import os\n",
    "from numpy import arange\n",
    "import string"
   ]
  },
  {
   "cell_type": "code",
   "execution_count": 2,
   "metadata": {},
   "outputs": [],
   "source": [
    "inexp_page1 = 'https://www.yelp.com/search?find_desc=Restaurants&find_loc=western%20sydney&l=g%3A151.15106940214844%2C-33.67728783357405%2C150.7418286794922%2C-34.01944832216618&attrs=RestaurantsPriceRange2.1'"
   ]
  },
  {
   "cell_type": "code",
   "execution_count": 3,
   "metadata": {},
   "outputs": [],
   "source": [
    "mod_page1 = 'https://www.yelp.com/search?find_desc=Restaurants&find_loc=western%20sydney&l=g%3A151.15106940214844%2C-33.67728783357405%2C150.7418286794922%2C-34.01944832216618&attrs=RestaurantsPriceRange2.2&ed_attrs=RestaurantsPriceRange2.1%2CRestaurantsPriceRange2.2'"
   ]
  },
  {
   "cell_type": "code",
   "execution_count": 4,
   "metadata": {},
   "outputs": [],
   "source": [
    "pricey_page1 = 'https://www.yelp.com/search?find_desc=Restaurants&find_loc=western%20sydney&l=g%3A151.15106940214844%2C-33.67728783357405%2C150.7418286794922%2C-34.01944832216618&attrs=RestaurantsPriceRange2.3&ed_attrs=RestaurantsPriceRange2.1'"
   ]
  },
  {
   "cell_type": "markdown",
   "metadata": {},
   "source": [
    "***Pages of reviews for each resturant*** <br>\n",
    "1) We can use all characters between \"datePublished.....and... /iv>\" to capture the actual texts of reviews <br>\n",
    "2) We can also use \"ratingValue\" content=\" as a marker for star rating <br>\n",
    "3) we will have to use the total number of reviews (found in plain html on the first page of all resturants) to calculate how many pages of reviews (assuming 20 reviews per page) "
   ]
  },
  {
   "cell_type": "markdown",
   "metadata": {},
   "source": [
    "***Pages of resturants for each price point***<br>\n",
    "1) We can calculate total pages by using the total number of resturants (found in plain html at the top of each price point page) and then we assume 30 resturants per page <br>\n",
    "2) We will have to also scrape all resturant names first and convert to all small case with dashes put between each word and punctuation marks removed in order to construct URLs for individual resturants for pre-review scraping <br>\n",
    "3) We can use \"ranking\".....\"name\"......\"neighbohoods\" as markers for each resturant name we have to scrape and process"
   ]
  },
  {
   "cell_type": "markdown",
   "metadata": {},
   "source": [
    "***Scrapper Pseudo Code***<br>\n",
    "1- Calculate the number of pages of resturants each price point has <br>\n",
    "2- Extract and process all resturant names for each price point <br>\n",
    "3- Calculate the number of pages of reviews each resturant has <br>\n",
    "4- Use numbers from above to establish dataframes and loops <br>\n",
    "5- Finally scrape all reviews and star ratings into 4 seperate dataframes, one for each price point </br>"
   ]
  },
  {
   "cell_type": "code",
   "execution_count": 5,
   "metadata": {},
   "outputs": [],
   "source": [
    "#Put price point pages in list\n",
    "price_points = list()\n",
    "price_points.append(inexp_page1)\n",
    "price_points.append(mod_page1)\n",
    "price_points.append(pricey_page1)"
   ]
  },
  {
   "cell_type": "code",
   "execution_count": 6,
   "metadata": {},
   "outputs": [],
   "source": [
    "#list for resturants in each price point\n",
    "pp_rest = list()"
   ]
  },
  {
   "cell_type": "code",
   "execution_count": 7,
   "metadata": {},
   "outputs": [],
   "source": [
    "#get number of pages of resturants for each price point\n",
    "for price_point in price_points:\n",
    "    response = requests.get(price_point)\n",
    "    content = response.content\n",
    "    pp_rest.append(re.findall('Showing 1-30 of....',str(content)))"
   ]
  },
  {
   "cell_type": "code",
   "execution_count": 8,
   "metadata": {},
   "outputs": [
    {
     "data": {
      "text/plain": [
       "[['Showing 1-30 of 446'], ['Showing 1-30 of 820'], ['Showing 1-30 of 107']]"
      ]
     },
     "execution_count": 8,
     "metadata": {},
     "output_type": "execute_result"
    }
   ],
   "source": [
    "pp_rest"
   ]
  },
  {
   "cell_type": "code",
   "execution_count": 9,
   "metadata": {},
   "outputs": [],
   "source": [
    "#dictionary for pages\n",
    "price_rests = dict()\n",
    "#extract last 3 numbers\n",
    "pp_rest[0] = str(pp_rest[0])\n",
    "rests = re.findall('[0-9]{3}',str(pp_rest[0]))\n",
    "rests = str(rests)\n",
    "rests = rests[2:5]\n",
    "price_rests['inexp'] = int(rests)\n",
    "#---------------------------------------\n",
    "pp_rest[1] = str(pp_rest[1])\n",
    "rests = re.findall('[0-9]{3}',str(pp_rest[1]))\n",
    "rests = str(rests)\n",
    "rests = rests[2:5]\n",
    "price_rests['mod'] = int(rests)\n",
    "#---------------------------------------\n",
    "pp_rest[2] = str(pp_rest[2])\n",
    "rests = re.findall('[0-9]{3}',str(pp_rest[2]))\n",
    "rests = str(rests)\n",
    "rests = rests[2:5]\n",
    "price_rests['pricey'] = int(rests)"
   ]
  },
  {
   "cell_type": "code",
   "execution_count": 10,
   "metadata": {},
   "outputs": [
    {
     "data": {
      "text/plain": [
       "{'inexp': 446, 'mod': 820, 'pricey': 107}"
      ]
     },
     "execution_count": 10,
     "metadata": {},
     "output_type": "execute_result"
    }
   ],
   "source": [
    "price_rests"
   ]
  },
  {
   "cell_type": "code",
   "execution_count": 11,
   "metadata": {},
   "outputs": [],
   "source": [
    "#calculate number of pages using number of resturants\n",
    "pp_pages = dict()\n",
    "for pp in price_rests:\n",
    "    pages = (price_rests[pp]/30) + 1\n",
    "    pp_pages[pp] = int(pages)"
   ]
  },
  {
   "cell_type": "code",
   "execution_count": 12,
   "metadata": {},
   "outputs": [
    {
     "data": {
      "text/plain": [
       "{'inexp': 15, 'mod': 28, 'pricey': 4}"
      ]
     },
     "execution_count": 12,
     "metadata": {},
     "output_type": "execute_result"
    }
   ],
   "source": [
    "pp_pages"
   ]
  },
  {
   "cell_type": "markdown",
   "metadata": {},
   "source": [
    "## 2.0 Extract and Process all resturant names for each price point\n",
    "### 2.1 Cheapest price point (Inexp)"
   ]
  },
  {
   "cell_type": "code",
   "execution_count": 13,
   "metadata": {},
   "outputs": [
    {
     "data": {
      "text/plain": [
       "'https://www.yelp.com/search?find_desc=Restaurants&find_loc=western%20sydney&l=g%3A151.15106940214844%2C-33.67728783357405%2C150.7418286794922%2C-34.01944832216618&attrs=RestaurantsPriceRange2.1'"
      ]
     },
     "execution_count": 13,
     "metadata": {},
     "output_type": "execute_result"
    }
   ],
   "source": [
    "#first we construct all URLs\n",
    "inexp_page1"
   ]
  },
  {
   "cell_type": "code",
   "execution_count": 14,
   "metadata": {},
   "outputs": [],
   "source": [
    "secondpage = 'https://www.yelp.com/search?find_desc=Restaurants&find_loc=western%20sydney&l=g%3A151.15106940214844%2C-33.67728783357405%2C150.7418286794922%2C-34.01944832216618&attrs=RestaurantsPriceRange2.1&start=30'"
   ]
  },
  {
   "cell_type": "code",
   "execution_count": 15,
   "metadata": {},
   "outputs": [],
   "source": [
    "#After examining the URLs,'&start=30' is added to the end of the url for page 2 (30 is added for every page)\n",
    "page2 = inexp_page1 + '&start=30'"
   ]
  },
  {
   "cell_type": "code",
   "execution_count": 16,
   "metadata": {},
   "outputs": [
    {
     "data": {
      "text/plain": [
       "'https://www.yelp.com/search?find_desc=Restaurants&find_loc=western%20sydney&l=g%3A151.15106940214844%2C-33.67728783357405%2C150.7418286794922%2C-34.01944832216618&attrs=RestaurantsPriceRange2.1&start=30'"
      ]
     },
     "execution_count": 16,
     "metadata": {},
     "output_type": "execute_result"
    }
   ],
   "source": [
    "#The last page url of any price point is therefore constructed by adding '&start=(MaxPages-1)*30'\n",
    "page2"
   ]
  },
  {
   "cell_type": "code",
   "execution_count": 17,
   "metadata": {},
   "outputs": [],
   "source": [
    "#lets now save this as resturant count, page 2 = 30, page 3 = 60....page 15 = 420\n",
    "resturant_count = list()\n",
    "#declare another list to keep all scrapped dirty names from the inexp price point\n",
    "dirty_names = list()"
   ]
  },
  {
   "cell_type": "code",
   "execution_count": 18,
   "metadata": {},
   "outputs": [],
   "source": [
    "for x in range(1,15):\n",
    "    resturant_count.append(str((x*30)))"
   ]
  },
  {
   "cell_type": "code",
   "execution_count": 19,
   "metadata": {},
   "outputs": [],
   "source": [
    "#Get resturant names from each page, start with page 1 then loop through the rest\n",
    "response = requests.get(inexp_page1)\n",
    "content = response.content\n",
    "copycontent = str(content)\n",
    "dirtynames = re.findall('target=\"\" name=\".{75}',copycontent)\n",
    "dirty_names.append(dirtynames)\n",
    "for count in resturant_count:\n",
    "    new_page = inexp_page1 + '&start=' + count\n",
    "    response = requests.get(new_page)\n",
    "    content = response.content\n",
    "    copycontent = str(content)\n",
    "    dirtynames = list()\n",
    "    dirtynames = re.findall('target=\"\" name=\".{75}',copycontent)\n",
    "    dirty_names.append(dirtynames)"
   ]
  },
  {
   "cell_type": "code",
   "execution_count": 20,
   "metadata": {},
   "outputs": [
    {
     "data": {
      "text/plain": [
       "'https://www.yelp.com/search?find_desc=Restaurants&find_loc=western%20sydney&l=g%3A151.15106940214844%2C-33.67728783357405%2C150.7418286794922%2C-34.01944832216618&attrs=RestaurantsPriceRange2.1'"
      ]
     },
     "execution_count": 20,
     "metadata": {},
     "output_type": "execute_result"
    }
   ],
   "source": [
    "inexp_page1"
   ]
  },
  {
   "cell_type": "code",
   "execution_count": 21,
   "metadata": {},
   "outputs": [
    {
     "data": {
      "text/plain": [
       "['target=\"\" name=\"\" rel=\"\" role=\"link\">Yelp</a></div></div><div class=\"lemon--div__373c0__1mb',\n",
       " 'target=\"\" name=\"\" rel=\"\" role=\"link\"><span class=\"lemon--span__373c0__3997G text__373c0__2p',\n",
       " 'target=\"\" name=\"\" rel=\"\" role=\"link\"><span class=\"lemon--span__373c0__3997G text__373c0__2p',\n",
       " 'target=\"\" name=\"\" rel=\"\"><img class=\"lemon--img__373c0__3GQUb photo-box-img__373c0__O0tbt\" ',\n",
       " 'target=\"\" name=\"Aldhiaffah Al-Iraqi Restaurant\" rel=\"\">Aldhiaffah Al-Iraqi Restaurant</a></',\n",
       " 'target=\"\" name=\"\" rel=\"\" role=\"link\">Middle Eastern</a></span></span></span></div></div><di',\n",
       " 'target=\"\" name=\"\" rel=\"\">read more</a></span></p></div></div></div><div class=\"lemon--div__',\n",
       " 'target=\"\" name=\"\" rel=\"\"><img class=\"lemon--img__373c0__3GQUb photo-box-img__373c0__O0tbt\" ',\n",
       " 'target=\"\" name=\"El Jannah Granville\" rel=\"\">El Jannah Granville</a></h3></div><div class=\"l',\n",
       " 'target=\"\" name=\"\" rel=\"\" role=\"link\">Middle Eastern</a></span></span></span></div></div><di',\n",
       " 'target=\"\" name=\"\" rel=\"\">read more</a></span></p></div></div></div><div class=\"lemon--div__',\n",
       " 'target=\"\" name=\"\" rel=\"\"><img class=\"lemon--img__373c0__3GQUb photo-box-img__373c0__O0tbt\" ',\n",
       " 'target=\"\" name=\"Frango\" rel=\"\">Frango</a></h3></div><div class=\"lemon--div__373c0__1mboc at',\n",
       " 'target=\"\" name=\"\" rel=\"\" role=\"link\">Portuguese</a></span></span></span></div></div><div cl',\n",
       " 'target=\"\" name=\"\" rel=\"\">read more</a></span></p></div></div></div><div class=\"lemon--div__',\n",
       " 'target=\"\" name=\"\" rel=\"\"><img class=\"lemon--img__373c0__3GQUb photo-box-img__373c0__O0tbt\" ',\n",
       " 'target=\"\" name=\"The Original Frango\" rel=\"\">The Original Frango</a></h3></div><div class=\"l',\n",
       " 'target=\"\" name=\"\" rel=\"\" role=\"link\">Chicken Shop</a></span>, </span><span class=\"lemon--sp',\n",
       " 'target=\"\" name=\"\" rel=\"\" role=\"link\">Portuguese</a></span>, </span><span class=\"lemon--span',\n",
       " 'target=\"\" name=\"\" rel=\"\" role=\"link\">Rotisserie Chicken</a></span></span></span></div></div',\n",
       " 'target=\"\" name=\"\" rel=\"\">read more</a></span></p></div></div></div><div class=\"lemon--div__',\n",
       " 'target=\"\" name=\"\" rel=\"\"><img class=\"lemon--img__373c0__3GQUb photo-box-img__373c0__O0tbt\" ',\n",
       " 'target=\"\" name=\"Darband Restaurant\" rel=\"\">Darband Restaurant</a></h3></div><div class=\"lem',\n",
       " 'target=\"\" name=\"\" rel=\"\" role=\"link\">Middle Eastern</a></span></span></span></div></div><di',\n",
       " 'target=\"\" name=\"\" rel=\"\">read more</a></span></p></div></div></div><div class=\"lemon--div__',\n",
       " 'target=\"\" name=\"\" rel=\"\"><img class=\"lemon--img__373c0__3GQUb photo-box-img__373c0__O0tbt\" ',\n",
       " 'target=\"\" name=\"Al Shami - Syrian &amp; Lebanese Cuisine\" rel=\"\">Al Shami - Syrian &amp; Le',\n",
       " 'target=\"\" name=\"\" rel=\"\" role=\"link\">Syrian</a></span>, </span><span class=\"lemon--span__37',\n",
       " 'target=\"\" name=\"\" rel=\"\" role=\"link\">Lebanese</a></span></span></span></div></div><div clas',\n",
       " 'target=\"\" name=\"\" rel=\"\">read more</a></span></p></div></div></div><div class=\"lemon--div__',\n",
       " 'target=\"\" name=\"\" rel=\"\"><img class=\"lemon--img__373c0__3GQUb photo-box-img__373c0__O0tbt\" ',\n",
       " 'target=\"\" name=\"Awafi Charcoal Chicken\" rel=\"\">Awafi Charcoal Chicken</a></h3></div><div cl',\n",
       " 'target=\"\" name=\"\" rel=\"\" role=\"link\">Australian</a></span></span></span></div></div><div cl',\n",
       " 'target=\"\" name=\"\" rel=\"\">read more</a></span></p></div></div></div><div class=\"lemon--div__',\n",
       " 'target=\"\" name=\"\" rel=\"\"><img class=\"lemon--img__373c0__3GQUb photo-box-img__373c0__O0tbt\" ',\n",
       " 'target=\"\" name=\"Hawa Charcoal Chicken\" rel=\"\">Hawa Charcoal Chicken</a></h3></div><div clas',\n",
       " 'target=\"\" name=\"\" rel=\"\" role=\"link\">Rotisserie Chicken</a></span></span></span></div></div',\n",
       " 'target=\"\" name=\"\" rel=\"\">read more</a></span></p></div></div></div><div class=\"lemon--div__',\n",
       " 'target=\"\" name=\"\" rel=\"\"><img class=\"lemon--img__373c0__3GQUb photo-box-img__373c0__O0tbt\" ',\n",
       " 'target=\"\" name=\"Anema E Core Pizzeria\" rel=\"\">Anema E Core Pizzeria</a></h3></div><div clas',\n",
       " 'target=\"\" name=\"\" rel=\"\" role=\"link\">Pizza</a></span></span></span></div></div><div class=\"',\n",
       " 'target=\"\" name=\"\" rel=\"\">read more</a></span></p></div></div></div><div class=\"lemon--div__',\n",
       " 'target=\"\" name=\"\" rel=\"\"><img class=\"lemon--img__373c0__3GQUb photo-box-img__373c0__O0tbt\" ',\n",
       " 'target=\"\" name=\"Bau Truong Restaurant\" rel=\"\">Bau Truong Restaurant</a></h3></div><div clas',\n",
       " 'target=\"\" name=\"\" rel=\"\" role=\"link\">Restaurants</a></span></span></span></div></div><div c',\n",
       " 'target=\"\" name=\"\" rel=\"\">read more</a></span></p></div></div></div><div class=\"lemon--div__',\n",
       " 'target=\"\" name=\"\" rel=\"\"><img class=\"lemon--img__373c0__3GQUb photo-box-img__373c0__O0tbt\" ',\n",
       " 'target=\"\" name=\"Tan Viet Noodle House\" rel=\"\">Tan Viet Noodle House</a></h3></div><div clas',\n",
       " 'target=\"\" name=\"\" rel=\"\" role=\"link\">Noodles</a></span>, </span><span class=\"lemon--span__3',\n",
       " 'target=\"\" name=\"\" rel=\"\" role=\"link\">Vietnamese</a></span></span></span></div></div><div cl',\n",
       " 'target=\"\" name=\"\" rel=\"\">read more</a></span></p></div></div></div><div class=\"lemon--div__',\n",
       " 'target=\"\" name=\"\" rel=\"\"><img class=\"lemon--img__373c0__3GQUb photo-box-img__373c0__O0tbt\" ',\n",
       " 'target=\"\" name=\"Pho Ba Le Vietnamese Noodle Bar\" rel=\"\">Pho Ba Le Vietnamese Noodle Bar</a>',\n",
       " 'target=\"\" name=\"\" rel=\"\" role=\"link\">Restaurants</a></span></span></span></div></div><div c',\n",
       " 'target=\"\" name=\"\" rel=\"\">read more</a></span></p></div></div></div><div class=\"lemon--div__',\n",
       " 'target=\"\" name=\"\" rel=\"\"><img class=\"lemon--img__373c0__3GQUb photo-box-img__373c0__O0tbt\" ',\n",
       " 'target=\"\" name=\"Gourmet Noodle House\" rel=\"\">Gourmet Noodle House</a></h3></div><div class=',\n",
       " 'target=\"\" name=\"\" rel=\"\" role=\"link\">Restaurants</a></span></span></span></div></div><div c',\n",
       " 'target=\"\" name=\"\" rel=\"\">read more</a></span></p></div></div></div><div class=\"lemon--div__',\n",
       " 'target=\"\" name=\"\" rel=\"\"><img class=\"lemon--img__373c0__3GQUb photo-box-img__373c0__O0tbt\" ',\n",
       " 'target=\"\" name=\"Rashays\" rel=\"\">Rashays</a></h3></div><div class=\"lemon--div__373c0__1mboc ',\n",
       " 'target=\"\" name=\"\" rel=\"\" role=\"link\">Restaurants</a></span></span></span></div></div><div c',\n",
       " 'target=\"\" name=\"\" rel=\"\">read more</a></span></p></div></div></div><div class=\"lemon--div__',\n",
       " 'target=\"\" name=\"\" rel=\"\"><img class=\"lemon--img__373c0__3GQUb photo-box-img__373c0__O0tbt\" ',\n",
       " 'target=\"\" name=\"El Burger\" rel=\"\">El Burger</a></h3></div><div class=\"lemon--div__373c0__1m',\n",
       " 'target=\"\" name=\"\" rel=\"\" role=\"link\">Burgers</a></span></span></span></div></div><div class',\n",
       " 'target=\"\" name=\"\" rel=\"\">read more</a></span></p></div></div></div><div class=\"lemon--div__',\n",
       " 'target=\"\" name=\"\" rel=\"\"><img class=\"lemon--img__373c0__3GQUb photo-box-img__373c0__O0tbt\" ',\n",
       " 'target=\"\" name=\"El Jannah\" rel=\"\">El Jannah</a></h3></div><div class=\"lemon--div__373c0__1m',\n",
       " 'target=\"\" name=\"\" rel=\"\" role=\"link\">Middle Eastern</a></span></span></span></div></div><di',\n",
       " 'target=\"\" name=\"\" rel=\"\">read more</a></span></p></div></div></div><div class=\"lemon--div__',\n",
       " 'target=\"\" name=\"\" rel=\"\"><img class=\"lemon--img__373c0__3GQUb photo-box-img__373c0__O0tbt\" ',\n",
       " 'target=\"\" name=\"New Star Kebabs\" rel=\"\">New Star Kebabs</a></h3></div><div class=\"lemon--di',\n",
       " 'target=\"\" name=\"\" rel=\"\" role=\"link\">Middle Eastern</a></span></span></span></div></div><di',\n",
       " 'target=\"\" name=\"\" rel=\"\">read more</a></span></p></div></div></div><div class=\"lemon--div__',\n",
       " 'target=\"\" name=\"\" rel=\"\"><img class=\"lemon--img__373c0__3GQUb photo-box-img__373c0__O0tbt\" ',\n",
       " 'target=\"\" name=\"S Biber &amp; T Biber\" rel=\"\">S Biber &amp; T Biber</a></h3></div><div clas',\n",
       " 'target=\"\" name=\"\" rel=\"\" role=\"link\">Restaurants</a></span></span></span></div></div><div c',\n",
       " 'target=\"\" name=\"\" rel=\"\">read more</a></span></p></div></div></div><div class=\"lemon--div__',\n",
       " 'target=\"\" name=\"\" rel=\"\"><img class=\"lemon--img__373c0__3GQUb photo-box-img__373c0__O0tbt\" ',\n",
       " 'target=\"\" name=\"Chubby Buns Burger\" rel=\"\">Chubby Buns Burger</a></h3></div><div class=\"lem',\n",
       " 'target=\"\" name=\"\" rel=\"\" role=\"link\">Burgers</a></span></span></span></div></div><div class',\n",
       " 'target=\"\" name=\"\" rel=\"\">read more</a></span></p></div></div></div><div class=\"lemon--div__',\n",
       " 'target=\"\" name=\"\" rel=\"\"><img class=\"lemon--img__373c0__3GQUb photo-box-img__373c0__O0tbt\" ',\n",
       " 'target=\"\" name=\"Plaza Noodle\" rel=\"\">Plaza Noodle</a></h3></div><div class=\"lemon--div__373',\n",
       " 'target=\"\" name=\"\" rel=\"\" role=\"link\">Restaurants</a></span></span></span></div></div><div c',\n",
       " 'target=\"\" name=\"\" rel=\"\">read more</a></span></p></div></div></div><div class=\"lemon--div__',\n",
       " 'target=\"\" name=\"\" rel=\"\"><img class=\"lemon--img__373c0__3GQUb photo-box-img__373c0__O0tbt\" ',\n",
       " 'target=\"\" name=\"Banh Cuon Kim Thanh\" rel=\"\">Banh Cuon Kim Thanh</a></h3></div><div class=\"l',\n",
       " 'target=\"\" name=\"\" rel=\"\" role=\"link\">Vietnamese</a></span></span></span></div></div><div cl',\n",
       " 'target=\"\" name=\"\" rel=\"\">read more</a></span></p></div></div></div><div class=\"lemon--div__',\n",
       " 'target=\"\" name=\"\" rel=\"\"><img class=\"lemon--img__373c0__3GQUb photo-box-img__373c0__O0tbt\" ',\n",
       " 'target=\"\" name=\"Lucky Thai &amp; Lao Restaurant\" rel=\"\">Lucky Thai &amp; Lao Restaurant</a>',\n",
       " 'target=\"\" name=\"\" rel=\"\" role=\"link\">Thai</a></span></span></span></div></div><div class=\"l',\n",
       " 'target=\"\" name=\"\" rel=\"\">read more</a></span></p></div></div></div><div class=\"lemon--div__',\n",
       " 'target=\"\" name=\"\" rel=\"\"><img class=\"lemon--img__373c0__3GQUb photo-box-img__373c0__O0tbt\" ',\n",
       " 'target=\"\" name=\"Knafeh\" rel=\"\">Knafeh</a></h3></div><div class=\"lemon--div__373c0__1mboc at',\n",
       " 'target=\"\" name=\"\" rel=\"\" role=\"link\">Food Trucks</a></span>, </span><span class=\"lemon--spa',\n",
       " 'target=\"\" name=\"\" rel=\"\" role=\"link\">Middle Eastern</a></span></span></span></div></div><di',\n",
       " 'target=\"\" name=\"\" rel=\"\">read more</a></span></p></div></div></div><div class=\"lemon--div__',\n",
       " 'target=\"\" name=\"\" rel=\"\"><img class=\"lemon--img__373c0__3GQUb photo-box-img__373c0__O0tbt\" ',\n",
       " 'target=\"\" name=\"Mr Ping\\\\xe2\\\\x80\\\\x99s\" rel=\"\">Mr Ping\\\\xe2\\\\x80\\\\x99s</a></h3></div><div class=',\n",
       " 'target=\"\" name=\"\" rel=\"\" role=\"link\">Chinese</a></span></span></span></div></div><div class',\n",
       " 'target=\"\" name=\"\" rel=\"\">read more</a></span></p></div></div></div><div class=\"lemon--div__',\n",
       " 'target=\"\" name=\"\" rel=\"\"><img class=\"lemon--img__373c0__3GQUb photo-box-img__373c0__O0tbt\" ',\n",
       " 'target=\"\" name=\"Tasty House Chinese Restaurant\" rel=\"\">Tasty House Chinese Restaurant</a></',\n",
       " 'target=\"\" name=\"\" rel=\"\" role=\"link\">Restaurants</a></span></span></span></div></div><div c',\n",
       " 'target=\"\" name=\"\" rel=\"\">read more</a></span></p></div></div></div><div class=\"lemon--div__',\n",
       " 'target=\"\" name=\"\" rel=\"\"><img class=\"lemon--img__373c0__3GQUb photo-box-img__373c0__O0tbt\" ',\n",
       " 'target=\"\" name=\"Industrial Harvest\" rel=\"\">Industrial Harvest</a></h3></div><div class=\"lem',\n",
       " 'target=\"\" name=\"\" rel=\"\" role=\"link\">Cafes</a></span>, </span><span class=\"lemon--span__373',\n",
       " 'target=\"\" name=\"\" rel=\"\" role=\"link\">Coffee &amp; Tea</a></span>, </span><span class=\"lemon',\n",
       " 'target=\"\" name=\"\" rel=\"\" role=\"link\">Breakfast &amp; Brunch</a></span></span></span></div><',\n",
       " 'target=\"\" name=\"\" rel=\"\">read more</a></span></p></div></div></div><div class=\"lemon--div__',\n",
       " 'target=\"\" name=\"\" rel=\"\"><img class=\"lemon--img__373c0__3GQUb photo-box-img__373c0__O0tbt\" ',\n",
       " 'target=\"\" name=\"Lao Village\" rel=\"\">Lao Village</a></h3></div><div class=\"lemon--div__373c0',\n",
       " 'target=\"\" name=\"\" rel=\"\" role=\"link\">Fast Food</a></span></span></span></div></div><div cla',\n",
       " 'target=\"\" name=\"\" rel=\"\">read more</a></span></p></div></div></div><div class=\"lemon--div__',\n",
       " 'target=\"\" name=\"\" rel=\"\"><img class=\"lemon--img__373c0__3GQUb photo-box-img__373c0__O0tbt\" ',\n",
       " 'target=\"\" name=\"New Shanghai\" rel=\"\">New Shanghai</a></h3></div><div class=\"lemon--div__373',\n",
       " 'target=\"\" name=\"\" rel=\"\" role=\"link\">Shanghainese</a></span>, </span><span class=\"lemon--sp',\n",
       " 'target=\"\" name=\"\" rel=\"\" role=\"link\">Noodles</a></span>, </span><span class=\"lemon--span__3',\n",
       " 'target=\"\" name=\"\" rel=\"\" role=\"link\">Dumplings</a></span></span></span></div></div><div cla',\n",
       " 'target=\"\" name=\"\" rel=\"\">read more</a></span></p></div></div></div><div class=\"lemon--div__',\n",
       " 'target=\"\" name=\"\" rel=\"\"><img class=\"lemon--img__373c0__3GQUb photo-box-img__373c0__O0tbt\" ',\n",
       " 'target=\"\" name=\"Simply Noodles\" rel=\"\">Simply Noodles</a></h3></div><div class=\"lemon--div_',\n",
       " 'target=\"\" name=\"\" rel=\"\" role=\"link\">Restaurants</a></span></span></span></div></div><div c',\n",
       " 'target=\"\" name=\"\" rel=\"\">read more</a></span></p></div></div></div><div class=\"lemon--div__',\n",
       " 'target=\"\" name=\"\" rel=\"\"><img class=\"lemon--img__373c0__3GQUb photo-box-img__373c0__O0tbt\" ',\n",
       " 'target=\"\" name=\"Pho Tau Bay\" rel=\"\">Pho Tau Bay</a></h3></div><div class=\"lemon--div__373c0',\n",
       " 'target=\"\" name=\"\" rel=\"\" role=\"link\">Restaurants</a></span></span></span></div></div><div c',\n",
       " 'target=\"\" name=\"\" rel=\"\">read more</a></span></p></div></div></div><div class=\"lemon--div__',\n",
       " 'target=\"\" name=\"\" rel=\"\" role=\"link\"><div class=\"lemon--div__373c0__1mboc pagination-link__',\n",
       " 'target=\"\" name=\"\" rel=\"\" role=\"link\"><div class=\"lemon--div__373c0__1mboc pagination-link__',\n",
       " 'target=\"\" name=\"\" rel=\"\" role=\"link\"><div class=\"lemon--div__373c0__1mboc pagination-link__',\n",
       " 'target=\"\" name=\"\" rel=\"\" role=\"link\"><div class=\"lemon--div__373c0__1mboc pagination-link__',\n",
       " 'target=\"\" name=\"\" rel=\"\" role=\"link\"><div class=\"lemon--div__373c0__1mboc pagination-link__',\n",
       " 'target=\"\" name=\"\" rel=\"\" role=\"link\"><div class=\"lemon--div__373c0__1mboc pagination-link__',\n",
       " 'target=\"\" name=\"\" rel=\"\" role=\"link\"><div class=\"lemon--div__373c0__1mboc pagination-link__',\n",
       " 'target=\"\" name=\"\" rel=\"\" role=\"link\"><div class=\"lemon--div__373c0__1mboc pagination-link__',\n",
       " 'target=\"\" name=\"\" rel=\"\" role=\"link\"><div class=\"lemon--div__373c0__1mboc navigation-button',\n",
       " 'target=\"\" name=\"\" rel=\"\"><img class=\"lemon--img__373c0__3GQUb photo-box-img__373c0__O0tbt\" ',\n",
       " 'target=\"\" name=\"\" rel=\"\"><img class=\"lemon--img__373c0__3GQUb photo-box-img__373c0__O0tbt\" ',\n",
       " 'target=\"\" name=\"\" rel=\"\"><img class=\"lemon--img__373c0__3GQUb photo-box-img__373c0__O0tbt\" ',\n",
       " 'target=\"\" name=\"\" rel=\"\"><img class=\"lemon--img__373c0__3GQUb photo-box-img__373c0__O0tbt\" ',\n",
       " 'target=\"\" name=\"\" rel=\"\"><img class=\"lemon--img__373c0__3GQUb photo-box-img__373c0__O0tbt\" ',\n",
       " 'target=\"\" name=\"\" rel=\"\"><img class=\"lemon--img__373c0__3GQUb photo-box-img__373c0__O0tbt\" ',\n",
       " 'target=\"\" name=\"\" rel=\"\"><img class=\"lemon--img__373c0__3GQUb photo-box-img__373c0__O0tbt\" ',\n",
       " 'target=\"\" name=\"\" rel=\"\"><img class=\"lemon--img__373c0__3GQUb photo-box-img__373c0__O0tbt\" ',\n",
       " 'target=\"\" name=\"\" rel=\"\">&quot;Australian&quot; restaurants</a></p><p class=\"lemon--p__373c',\n",
       " 'target=\"\" name=\"\" rel=\"\">helal cafes and restaurants?</a></p><p class=\"lemon--p__373c0__3Qn',\n",
       " 'target=\"\" name=\"\" rel=\"\">Time limits in fine dining restaurants</a></p><p class=\"lemon--p__',\n",
       " 'target=\"\" name=\"\" rel=\"\">More Topics</a></p></div></div></div></div></div><div class=\"lemon',\n",
       " 'target=\"\" name=\"\" rel=\"\" role=\"button\">Help us improve.</a></p></div></div></div></div></di']"
      ]
     },
     "execution_count": 21,
     "metadata": {},
     "output_type": "execute_result"
    }
   ],
   "source": [
    "dirty_names[0]"
   ]
  },
  {
   "cell_type": "code",
   "execution_count": 22,
   "metadata": {},
   "outputs": [],
   "source": [
    "#the captured strings need to be cleaned once more to extract only the resturant names:\n",
    "clean_names = list()\n",
    "for name in dirty_names:\n",
    "    for string in name:\n",
    "        cleanstring = re.findall('name=\"(.*?)\"',string)\n",
    "        clean_names.append(cleanstring)"
   ]
  },
  {
   "cell_type": "code",
   "execution_count": 23,
   "metadata": {},
   "outputs": [
    {
     "data": {
      "text/plain": [
       "[[''],\n",
       " [''],\n",
       " [''],\n",
       " [''],\n",
       " ['Aldhiaffah Al-Iraqi Restaurant'],\n",
       " [''],\n",
       " [''],\n",
       " [''],\n",
       " ['El Jannah Granville'],\n",
       " ['']]"
      ]
     },
     "execution_count": 23,
     "metadata": {},
     "output_type": "execute_result"
    }
   ],
   "source": [
    "clean_names[:10]"
   ]
  },
  {
   "cell_type": "code",
   "execution_count": 24,
   "metadata": {},
   "outputs": [],
   "source": [
    "#we then need to convert the resturant names to strings\n",
    "final_names = list()\n",
    "for name in clean_names:\n",
    "    name = str(name)\n",
    "    name = name[2:]\n",
    "    final_names.append(str(name))\n",
    "    #print(name)"
   ]
  },
  {
   "cell_type": "code",
   "execution_count": 25,
   "metadata": {},
   "outputs": [
    {
     "name": "stdout",
     "output_type": "stream",
     "text": [
      "Aldhiaffah Al-Iraqi Restaurant']\n",
      "El Jannah Granville']\n",
      "Frango']\n",
      "The Original Frango']\n",
      "Darband Restaurant']\n",
      "Al Shami - Syrian &amp; Lebanese Cuisine']\n",
      "Awafi Charcoal Chicken']\n",
      "Hawa Charcoal Chicken']\n",
      "Anema E Core Pizzeria']\n",
      "Bau Truong Restaurant']\n",
      "Tan Viet Noodle House']\n",
      "Pho Ba Le Vietnamese Noodle Bar']\n",
      "Gourmet Noodle House']\n",
      "Rashays']\n",
      "El Burger']\n",
      "El Jannah']\n",
      "New Star Kebabs']\n",
      "S Biber &amp; T Biber']\n",
      "Chubby Buns Burger']\n",
      "Plaza Noodle']\n",
      "Banh Cuon Kim Thanh']\n",
      "Lucky Thai &amp; Lao Restaurant']\n",
      "Knafeh']\n",
      "Mr Ping\\\\xe2\\\\x80\\\\x99s']\n",
      "Tasty House Chinese Restaurant']\n",
      "Industrial Harvest']\n",
      "Lao Village']\n",
      "New Shanghai']\n",
      "Simply Noodles']\n",
      "Pho Tau Bay']\n",
      "Jasmin Lebanese Restaurant']\n",
      "Phu Quoc']\n",
      "Lao-Thai Luammit Restaurant']\n",
      "Pho Sam Noodle House']\n",
      "Billu\\\\xe2\\\\x80\\\\x99s Express']\n",
      "Jasmin 1 lebanese restaurant chesterhill']\n",
      "Hana Sushi']\n",
      "Thai Place Restaurant']\n",
      "Regents Park Food Centre']\n",
      "Mr Happy Chef Noodle House']\n",
      "Pho Mai']\n",
      "North Rocks Chinese Kitchen Restaurant']\n",
      "Pho Saigon']\n",
      "Vaz\\\\xe2\\\\x80\\\\x99s Asian Kitchen']\n",
      "Oriental Tucker Box']\n",
      "Pho Lam Vietnamese Restaurant']\n",
      "Wok n Roll']\n",
      "Thai Spy Restaurant &amp; Takeaway']\n",
      "Flamed &amp; Grilled Seafood Burgers']\n",
      "The Shed by Ristretto &amp; Co']\n",
      "Sultans Grill']\n",
      "Dana\\\\xe2\\\\x80\\\\x99s Kitchen']\n",
      "Darcy Street Project']\n",
      "Fish Affair']\n",
      "Sun\\\\xe2\\\\x80\\\\x99s Burmese Kitchen']\n",
      "Dong Ba']\n",
      "Pho Ann']\n",
      "Huong Xua']\n",
      "Gia Vien']\n",
      "Banh Bao Canley Heights']\n",
      "Norwest Fresh Seafoods']\n",
      "Mad Mex']\n",
      "The Usual Cafe']\n",
      "Go Hun Thai Take Away']\n",
      "Badmanner Thymes Espresso']\n",
      "J\\\\xe2\\\\x80\\\\x99s Kitchen Steak House']\n",
      "Manouch at Marsden']\n",
      "Bkk International Fast Food Centre']\n",
      "KK Bakery']\n",
      "Platform 8']\n",
      "Thai Number One']\n",
      "Nando\\\\xe2\\\\x80\\\\x99s']\n",
      "Bar Qualia']\n",
      "Nathan\\\\xe2\\\\x80\\\\x99s Famous']\n",
      "Sakae']\n",
      "Guzman Y Gomez']\n",
      "Dundas Valley Take Away']\n",
      "Pho Sai Gon']\n",
      "Akai Japanese Restaurant']\n",
      "Loving Hut']\n",
      "Cafe 31 on Macquarie']\n",
      "Voglia Di Pane']\n",
      "Traditional Gyradiko']\n",
      "Pho Gia Hoi']\n",
      "Chilli Chilli Bang Bang']\n",
      "Hong Kong Recipe']\n",
      "Eat GRK.']\n",
      "Lil Cilantro']\n",
      "Cafe Lipari']\n",
      "Sushi Ichi Bar']\n",
      "Canton Noodle House Burwood']\n",
      "Portico Chicken Ermington']\n",
      "Cooks Hill Hotel']\n",
      "Rashays Licensed Cafe']\n",
      "Blue Fin Sushi']\n",
      "Toan Thang Chinese Restaurant']\n",
      "Basil &amp; Lime']\n",
      "Vietastic']\n",
      "Gyros Fix Five Dock']\n",
      "El Farouge']\n",
      "Bao Dao Taiwanese Kitchen']\n",
      "Anar Charcoal Chicken']\n",
      "Sushi Hub']\n",
      "Sultan Turkish Pide and Kebab House']\n",
      "Oatley Village Kitchen']\n",
      "Saigon Bowl']\n",
      "Pho Gia Hoi']\n",
      "Guzman Y Gomez']\n",
      "Rose &amp; Crown Hotel Parramatta']\n",
      "Jasmin One Lebanese Restaurant']\n",
      "Saigon Phoever']\n",
      "Midori Japanese Cuisine']\n",
      "Harry\\\\xe2\\\\x80\\\\x99s Cafe de Wheels - Liverpool']\n",
      "Happy Snack Cafe House']\n",
      "My Sweet Boutique']\n",
      "Colyton Seafood Takeaway']\n",
      "Manmaruya']\n",
      "Gladesville RSL &amp; Community Club']\n",
      "Sea Bay Hand Made Noodle Restaurant']\n",
      "76 Asian Restaurant']\n",
      "Oatley Village Kitchen']\n",
      "Westmead Tavern']\n",
      "Jasmin One Lebanese Restaurant']\n",
      "Spicy House Hot Pot Restaurant']\n",
      "Thai Expression']\n",
      "Colyton Seafood Takeaway']\n",
      "BBQ One Kitchen']\n",
      "Dachshund Coffee']\n",
      "Kings Park Tavern']\n",
      "Brothers Kebabs']\n",
      "Grill Republic']\n",
      "Thai Curry']\n",
      "Bun Bo Hue Gia Hoi']\n",
      "Ronnies Pizza House']\n",
      "Gladesville RSL &amp; Community Club']\n",
      "Taiwan Night Market']\n",
      "Caffe Bianchi']\n",
      "Tan Hung Vuong']\n",
      "76 Asian Restaurant']\n",
      "Shinsen']\n",
      "The Leaf']\n",
      "Kekik Kebab']\n",
      "McDonald\\\\xe2\\\\x80\\\\x99s']\n",
      "Canton Noodle House']\n",
      "Duy Linh Vegan Restaurant']\n",
      "Dragon House Indian Chinese Halal Restaurant']\n",
      "Tuong Lai Vietnamese Restaurant']\n",
      "Sushia']\n",
      "McDonald\\\\xe2\\\\x80\\\\x99s Parramatta']\n",
      "Tommy\\\\xe2\\\\x80\\\\x99s Pizza &amp; Kebabs']\n",
      "Maples Putney']\n",
      "Dragon House Indian Chinese Halal Restaurant']\n",
      "Canton Noodle House']\n",
      "Schnitz']\n",
      "Panda Koala Chinese Restaurant']\n",
      "O\\\\xe2\\\\x80\\\\x99Briens Sandwich Cafe']\n",
      "World Vegan']\n",
      "Viet Trung']\n",
      "Ronnies Pizza House']\n",
      "Wings Chinese Seafood Restaurant']\n",
      "Tuong Lai Vietnamese Restaurant']\n",
      "Little Greece']\n",
      "Shinsen']\n",
      "The Pizza &amp; Ribs Runner']\n",
      "Flavours Of Myanmar']\n",
      "More Rice']\n",
      "Pho 54']\n",
      "Red Lea Chickens']\n",
      "Pho Ben']\n",
      "Vinata\\\\xe2\\\\x80\\\\x99s Hot Bread']\n",
      "Vina Bakehouse']\n",
      "KFC']\n",
      "Sun Indian &amp; Sri Lankan Takeaway']\n",
      "Ippudo']\n",
      "Soul Origin']\n",
      "Duy Linh Vegan Restaurant']\n",
      "Nam Viet']\n",
      "Tommy\\\\xe2\\\\x80\\\\x99s Pizza &amp; Kebabs']\n",
      "Sweet Land']\n",
      "1606 Luis de Torres']\n",
      "North &amp; South Gourmet']\n",
      "Unwritten Bookshop Cafe']\n",
      "More Rice']\n",
      "Trainspotting']\n",
      "Shanghai Memory']\n",
      "Oliver Brown']\n",
      "Baan Raun Thai']\n",
      "LeWrap Parramatta']\n",
      "Orana Takeaway']\n",
      "Paul\\\\xe2\\\\x80\\\\x99s Famous Hamburgers']\n",
      "Tan Viet Noodle House']\n",
      "1606 Luis de Torres']\n",
      "Flavours Of Myanmar']\n",
      "Best Taste Dim Sim']\n",
      "McDonald\\\\xe2\\\\x80\\\\x99s']\n",
      "Munoushee Concord']\n",
      "Red Ginger']\n",
      "Golden Wheel Chinese Restaurant']\n",
      "Little Greece']\n",
      "Red Rooster']\n",
      "Pho Hien']\n",
      "Subway']\n",
      "Soul Origin']\n",
      "Yellow Brick Cafe']\n",
      "Luneburger German Bakery']\n",
      "Vina Bakehouse']\n",
      "Peking Square Chinese Resturant']\n",
      "Leaf Cafe &amp; Co']\n",
      "Bean 2 Taste']\n",
      "Kebab &amp; Pide']\n",
      "Nam Viet']\n",
      "World Famous Chicken Colyton']\n",
      "Pho 76']\n",
      "McDonald\\\\xe2\\\\x80\\\\x99s']\n",
      "Little Caesars']\n",
      "La\\\\xe2\\\\x80\\\\x99 Chook']\n",
      "Master Of The Rolls']\n",
      "Little Thailand']\n",
      "Cafe Relish']\n",
      "Pho Ngon Vietnamese Restaurant']\n",
      "Red Rooster']\n",
      "Mantra Indian Restaurant']\n",
      "Lok Lok Dumpling Bar']\n",
      "Dolce Espresso']\n",
      "Ho Jiak']\n",
      "Like Noodles']\n",
      "Leaf Cafe &amp; Co']\n",
      "Sun Indian &amp; Sri Lankan Takeaway']\n",
      "Lee Hing']\n",
      "Oporto Burwood']\n",
      "Jai Thai Kitchen']\n",
      "Thai Break']\n",
      "Mad Mex Fresh Mexican Grill']\n",
      "Big-Ed Deli']\n",
      "Chidzuru']\n",
      "Mie Thai Takeaway']\n",
      "Le Bistro Dorine']\n",
      "Penshurst Deli']\n",
      "Rise Sourdough Bakery Cafe']\n",
      "Harry\\\\xe2\\\\x80\\\\x99s Cafe de Wheels - Burwood']\n",
      "Miss Saigon Restaurant']\n",
      "Kokoda Cafe']\n",
      "Tonkotsuya']\n",
      "Cafe Pinnacle']\n",
      "Gloria Jean\\\\xe2\\\\x80\\\\x99s Coffees']\n",
      "McDonald\\\\xe2\\\\x80\\\\x99s']\n",
      "Oliver Brown']\n",
      "Zozan Kebabs']\n",
      "Corner Cafe Pennant Hills']\n",
      "Sushi Hub']\n",
      "Beverley Hills Kebabs']\n",
      "Aino Sushi']\n",
      "Sai Cuisine Indian Restaurant']\n",
      "Bee\\\\xe2\\\\x80\\\\x99s Knees Cafe']\n",
      "McDonald\\\\xe2\\\\x80\\\\x99s']\n",
      "Ace Vietnamese Rolls and Bowls']\n",
      "Mcdonalds']\n",
      "Oporto']\n",
      "Homebush Take-A-Way']\n",
      "Wicked Mexican']\n",
      "Willies Gourmet Lunch Shop']\n",
      "Diem Hen']\n",
      "Taj Indian Masala']\n",
      "Pho Vy']\n",
      "Mortdale Hotel Bistro']\n",
      "The Coffee Club']\n",
      "T2 Tea House']\n",
      "My Sweet Memory']\n",
      "YogurBerry']\n",
      "Subway']\n",
      "Cafe Pronto']\n",
      "Oliver Brown']\n",
      "Kimsakat']\n",
      "Sushi Hub']\n",
      "Pizza Down Under']\n",
      "Tokyo Ramen']\n",
      "Belmore Awafy']\n",
      "Espressa']\n",
      "Kebab Club']\n",
      "The Foodie House']\n",
      "Viet Hoa Seafood Flemington']\n",
      "Texas Charcoal Chicken']\n",
      "Rolld']\n",
      "Oricco Charcoal Chicken']\n",
      "A&amp;P Sulfaro Pasticceria Italiana']\n",
      "Bean Tampered']\n",
      "Village Hotel']\n",
      "Nakhla Bakery']\n",
      "Number One Thai']\n",
      "Wild Rooster']\n",
      "Yangtze River Kor- Chinese Restaurant']\n",
      "Gloria Jean\\\\xe2\\\\x80\\\\x99s Coffees']\n",
      "Caffellatte']\n",
      "Leanly Hot Bread']\n",
      "Macquarie Library Cafe']\n",
      "The Shoe Chef Cafe']\n",
      "Cafe One 80']\n",
      "Piri Piri Flame Grill Chicken']\n",
      "Turramurra Sushi Kitchen']\n",
      "Sushi Honpo']\n",
      "Gloria Jean\\\\xe2\\\\x80\\\\x99s Coffees']\n",
      "Thai Hut']\n",
      "Turramurra Sushi Kitchen']\n",
      "Bean Tampered']\n",
      "Kammadhenu']\n",
      "McDonald\\\\xe2\\\\x80\\\\x99s']\n",
      "McDonald\\\\xe2\\\\x80\\\\x99s']\n",
      "Pennant Hills Cafe']\n",
      "Galleria Cafe']\n",
      "The Shoe Chef Cafe']\n",
      "Oricco Charcoal Chicken']\n",
      "Oporto']\n",
      "Hokka Hokka']\n",
      "Barista Haus']\n",
      "Tokyo Ramen']\n",
      "McDonald\\\\xe2\\\\x80\\\\x99s']\n",
      "Open Kitchen He Tai']\n",
      "Sushi Honpo']\n",
      "The Coffee Emporium Bankstown']\n",
      "Caffe Bom']\n",
      "Piri Piri Flame Grill Chicken']\n",
      "Gecko\\\\xe2\\\\x80\\\\x99s Kitchen']\n",
      "Trebbiano']\n",
      "Pishon Patisserie &amp; Cake Cafe']\n",
      "Kefi Souvlaki &amp; Pizza Bar']\n",
      "Gosh Coffee']\n",
      "Sushi Yah']\n",
      "Pho 234']\n",
      "Number One Thai']\n",
      "Dural Chickens &amp; Salads']\n",
      "Lockies Hotel']\n",
      "Aegean Blue Cafe']\n",
      "KFC']\n",
      "Chao Kong Chinese Restaurant']\n",
      "KFC']\n",
      "Aqua Noodle House']\n",
      "Totoro']\n",
      "Hong Kong Noodle King']\n",
      "McDonald\\\\xe2\\\\x80\\\\x99s Family Restaurants']\n",
      "Pho Ha Noi']\n",
      "McDonald\\\\xe2\\\\x80\\\\x99s']\n",
      "Texas Charcoal Chicken']\n",
      "Hungry Jacks']\n",
      "McDonald\\\\xe2\\\\x80\\\\x99s']\n",
      "Meet Fresh']\n",
      "Platinum Coffee House']\n",
      "Pink Flamingo']\n",
      "Gourmet Pizza Pantry']\n",
      "Tokyo Ramen']\n",
      "Seafood Works']\n",
      "Mera Coffee Roast']\n",
      "West End Espresso']\n",
      "9 Bar Coffee']\n",
      "Gloria Jeans']\n",
      "Bear Cafe']\n",
      "Kafeneio']\n",
      "Sydney Markets Plaza Cafe']\n",
      "Pakwaan']\n",
      "Subway']\n",
      "Double Mac']\n",
      "Sydney Markets Plaza Cafe']\n",
      "Pakwaan']\n",
      "Tako Japanese Restaurant']\n",
      "Caffe Cherry Bean']\n",
      "Savvy Coffee']\n",
      "Soban Korean Cuisine Hornsby']\n",
      "Presse Cafe']\n",
      "Sushi on Morts']\n",
      "Christina\\\\xe2\\\\x80\\\\x99s Pizzeria']\n",
      "Tim\\\\xe2\\\\x80\\\\x99s BBQ Kitchen']\n",
      "Zig Zag']\n",
      "Oporto']\n",
      "Tasty Rolls']\n",
      "Soul Origin']\n",
      "Oliver Brown']\n",
      "Subway']\n",
      "Sugarloaf Patisserie']\n",
      "Jiminis Cafe']\n",
      "Tom\\\\xe2\\\\x80\\\\x99s Carvery']\n",
      "KFC']\n",
      "Icon Takeaway Cafe']\n",
      "Michel\\\\xe2\\\\x80\\\\x99s Patisserie']\n",
      "Beretta Cafe &amp; Pizza Bar']\n",
      "McDonald\\\\xe2\\\\x80\\\\x99s']\n",
      "Jimmy\\\\xe2\\\\x80\\\\x99s Gourmet Pizza']\n",
      "Binary Cafe']\n",
      "Hungry Jack\\\\xe2\\\\x80\\\\x99s']\n",
      "Wendy\\\\xe2\\\\x80\\\\x99s']\n",
      "Mezze']\n",
      "Eddison New Canterbury Rd Chinese Takeaway Food']\n",
      "KFC']\n",
      "Ali Baba Lebanese Cuisine']\n",
      "Sushi World']\n",
      "Christina\\\\xe2\\\\x80\\\\x99s Pizzeria']\n",
      "Thai Icon Restaurant']\n",
      "Burger Lovers']\n",
      "Gold Ribbon Cake Cafe and Restaurant']\n",
      "Eddison New Canterbury Rd Chinese Takeaway Food']\n",
      "Tim\\\\xe2\\\\x80\\\\x99s BBQ Kitchen']\n",
      "Danni\\\\xe2\\\\x80\\\\x99s Pizza &amp; Pasta']\n",
      "Eatz on Bridge']\n",
      "Dolcetti']\n",
      "Fresh Food Bar']\n",
      "Ramsgate Beach Seafood']\n",
      "Club Rocky\\\\xe2\\\\x80\\\\x99s']\n",
      "Lai Bread Shop']\n",
      "McDonald\\\\xe2\\\\x80\\\\x99s']\n",
      "Subway']\n",
      "Michel\\\\xe2\\\\x80\\\\x99s Patisserie']\n",
      "Go Fresh']\n",
      "McDonalds Restaurant']\n",
      "Oliver Brown']\n",
      "Hungry Jack\\\\xe2\\\\x80\\\\x99s']\n",
      "Donut King']\n",
      "Domino\\\\xe2\\\\x80\\\\x99s Pizza']\n",
      "Kafe Altura']\n",
      "Constitution Take Away Cafe']\n",
      "Wahroonga Gourmet Charcoal Chicken']\n",
      "Shikoku Japanese Restaurant']\n",
      "Smith\\\\xe2\\\\x80\\\\x99s Quality Seafoods']\n",
      "Lai Bread Shop']\n",
      "Kafe Altura']\n",
      "Maldinis Espresso']\n",
      "Constitution Take Away Cafe']\n",
      "Chef\\\\xe2\\\\x80\\\\x99s Noodle']\n",
      "Roll\\\\xe2\\\\x80\\\\x99d']\n",
      "Satay Queen']\n",
      "Donut King']\n",
      "Three Beans Cafe']\n",
      "Hillz Kitchen']\n",
      "Coffee in the park Cafe, Dolls Point']\n",
      "Deli Fresco Hornsby']\n",
      "Three Beans']\n",
      "The Cupcake Factory']\n",
      "Domino\\\\xe2\\\\x80\\\\x99s Pizza']\n",
      "H Cafe']\n",
      "Shingle Inn']\n",
      "Rocket']\n",
      "Kingsgrove RSL Club']\n",
      "Pizza Hut']\n",
      "Le Wrap']\n",
      "Kota Sushi']\n",
      "Red Rooster']\n",
      "Flavours']\n",
      "Regency Cafe']\n",
      "Pizza Hut']\n"
     ]
    }
   ],
   "source": [
    "#now we need to clean the final names\n",
    "clean_finalnames = list()\n",
    "for name in final_names:\n",
    "    if name[0] != \"'\":\n",
    "        clean_finalnames.append(name[:len(name)-2])\n",
    "        print(name)"
   ]
  },
  {
   "cell_type": "code",
   "execution_count": 26,
   "metadata": {},
   "outputs": [
    {
     "data": {
      "text/plain": [
       "446"
      ]
     },
     "execution_count": 26,
     "metadata": {},
     "output_type": "execute_result"
    }
   ],
   "source": [
    "len(clean_finalnames)"
   ]
  },
  {
   "cell_type": "markdown",
   "metadata": {},
   "source": [
    "446 is the correct number of resturants, we just need to do 3 more things. Remove the - '] from the end of every name and replace \\\\xe2\\\\x80\\\\x99 with ' and replace amp& with nothing"
   ]
  },
  {
   "cell_type": "code",
   "execution_count": 47,
   "metadata": {},
   "outputs": [],
   "source": [
    "#final phase of cleaning\n",
    "inexp_names = list()\n",
    "for name in clean_finalnames:\n",
    "    _name = re.sub(\"]'\",'',name)\n",
    "    clean_name = re.sub(\"amp;\",'',_name)\n",
    "    final_name = re.sub(r'\\\\\\\\xe2\\\\\\\\x80\\\\\\\\x99',\"'\",clean_name)\n",
    "    inexp_names.append(final_name)"
   ]
  },
  {
   "cell_type": "code",
   "execution_count": 51,
   "metadata": {},
   "outputs": [
    {
     "data": {
      "text/plain": [
       "\"Mr Ping's\""
      ]
     },
     "execution_count": 51,
     "metadata": {},
     "output_type": "execute_result"
    }
   ],
   "source": [
    "inexp_names[23]"
   ]
  },
  {
   "cell_type": "code",
   "execution_count": null,
   "metadata": {},
   "outputs": [],
   "source": []
  }
 ],
 "metadata": {
  "kernelspec": {
   "display_name": "Python 3",
   "language": "python",
   "name": "python3"
  },
  "language_info": {
   "codemirror_mode": {
    "name": "ipython",
    "version": 3
   },
   "file_extension": ".py",
   "mimetype": "text/x-python",
   "name": "python",
   "nbconvert_exporter": "python",
   "pygments_lexer": "ipython3",
   "version": "3.7.0"
  }
 },
 "nbformat": 4,
 "nbformat_minor": 2
}
