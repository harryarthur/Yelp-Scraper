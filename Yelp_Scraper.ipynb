{
 "cells": [
  {
   "cell_type": "code",
   "execution_count": 1,
   "metadata": {},
   "outputs": [],
   "source": [
    "import requests\n",
    "import csv\n",
    "import re\n",
    "import pandas as pd\n",
    "import time\n",
    "from bs4 import BeautifulSoup\n",
    "import os\n",
    "from numpy import arange"
   ]
  },
  {
   "cell_type": "code",
   "execution_count": 2,
   "metadata": {},
   "outputs": [],
   "source": [
    "inexp_page1 = 'https://www.yelp.com/search?find_desc=Restaurants&find_loc=western%20sydney&l=g%3A151.15106940214844%2C-33.67728783357405%2C150.7418286794922%2C-34.01944832216618&attrs=RestaurantsPriceRange2.1'"
   ]
  },
  {
   "cell_type": "code",
   "execution_count": 3,
   "metadata": {},
   "outputs": [],
   "source": [
    "mod_page1 = 'https://www.yelp.com/search?find_desc=Restaurants&find_loc=western%20sydney&l=g%3A151.15106940214844%2C-33.67728783357405%2C150.7418286794922%2C-34.01944832216618&attrs=RestaurantsPriceRange2.2&ed_attrs=RestaurantsPriceRange2.1%2CRestaurantsPriceRange2.2'"
   ]
  },
  {
   "cell_type": "code",
   "execution_count": 4,
   "metadata": {},
   "outputs": [],
   "source": [
    "pricey_page1 = 'https://www.yelp.com/search?find_desc=Restaurants&find_loc=western%20sydney&l=g%3A151.15106940214844%2C-33.67728783357405%2C150.7418286794922%2C-34.01944832216618&attrs=RestaurantsPriceRange2.3&ed_attrs=RestaurantsPriceRange2.1'"
   ]
  },
  {
   "cell_type": "markdown",
   "metadata": {},
   "source": [
    "***Pages of reviews for each resturant*** <br>\n",
    "1) We can use all characters between \"datePublished.....and... /iv>\" to capture the actual texts of reviews <br>\n",
    "2) We can also use \"ratingValue\" content=\" as a marker for star rating <br>\n",
    "3) we will have to use the total number of reviews (found in plain html on the first page of all resturants) to calculate how many pages of reviews (assuming 20 reviews per page) "
   ]
  },
  {
   "cell_type": "markdown",
   "metadata": {},
   "source": [
    "***Pages of resturants for each price point***<br>\n",
    "1) We can calculate total pages by using the total number of resturants (found in plain html at the top of each price point page) and then we assume 30 resturants per page <br>\n",
    "2) We will have to also scrape all resturant names first and convert to all small case with dashes put between each word and punctuation marks removed in order to construct URLs for individual resturants for pre-review scraping <br>\n",
    "3) We can use \"ranking\".....\"name\"......\"neighbohoods\" as markers for each resturant name we have to scrape and process"
   ]
  },
  {
   "cell_type": "markdown",
   "metadata": {},
   "source": [
    "***Scrapper Pseudo Code***<br>\n",
    "1- Calculate the number of pages of resturants each price point has <br>\n",
    "2- Extract and process all resturant names for each price point <br>\n",
    "3- Calculate the number of pages of reviews each resturant has <br>\n",
    "4- Use numbers from above to establish dataframes and loops <br>\n",
    "5- Finally scrape all reviews and star ratings into 4 seperate dataframes, one for each price point </br>"
   ]
  },
  {
   "cell_type": "code",
   "execution_count": 5,
   "metadata": {},
   "outputs": [],
   "source": [
    "#Put price point pages in list\n",
    "price_points = list()\n",
    "price_points.append(inexp_page1)\n",
    "price_points.append(mod_page1)\n",
    "price_points.append(pricey_page1)"
   ]
  },
  {
   "cell_type": "code",
   "execution_count": 6,
   "metadata": {},
   "outputs": [],
   "source": [
    "#list for resturants in each price point\n",
    "pp_rest = list()"
   ]
  },
  {
   "cell_type": "code",
   "execution_count": 7,
   "metadata": {},
   "outputs": [],
   "source": [
    "#get number of pages of resturants for each price point\n",
    "for price_point in price_points:\n",
    "    response = requests.get(price_point)\n",
    "    content = response.content\n",
    "    pp_rest.append(re.findall('Showing 1-30 of....',str(content)))"
   ]
  },
  {
   "cell_type": "code",
   "execution_count": 8,
   "metadata": {},
   "outputs": [
    {
     "data": {
      "text/plain": [
       "[['Showing 1-30 of 447'], ['Showing 1-30 of 819'], ['Showing 1-30 of 107']]"
      ]
     },
     "execution_count": 8,
     "metadata": {},
     "output_type": "execute_result"
    }
   ],
   "source": [
    "pp_rest"
   ]
  },
  {
   "cell_type": "code",
   "execution_count": 10,
   "metadata": {},
   "outputs": [],
   "source": [
    "#dictionary for pages\n",
    "price_rests = dict()\n",
    "#extract last 3 numbers\n",
    "pp_rest[0] = str(pp_rest[0])\n",
    "rests = re.findall('[0-9]{3}',str(pp_rest[0]))\n",
    "rests = str(rests)\n",
    "rests = rests[2:5]\n",
    "price_rests['inexp'] = int(rests)\n",
    "#---------------------------------------\n",
    "pp_rest[1] = str(pp_rest[1])\n",
    "rests = re.findall('[0-9]{3}',str(pp_rest[1]))\n",
    "rests = str(rests)\n",
    "rests = rests[2:5]\n",
    "price_rests['mod'] = int(rests)\n",
    "#---------------------------------------\n",
    "pp_rest[2] = str(pp_rest[2])\n",
    "rests = re.findall('[0-9]{3}',str(pp_rest[2]))\n",
    "rests = str(rests)\n",
    "rests = rests[2:5]\n",
    "price_rests['pricey'] = int(rests)"
   ]
  },
  {
   "cell_type": "code",
   "execution_count": 11,
   "metadata": {},
   "outputs": [
    {
     "data": {
      "text/plain": [
       "{'inexp': 447, 'mod': 819, 'pricey': 107}"
      ]
     },
     "execution_count": 11,
     "metadata": {},
     "output_type": "execute_result"
    }
   ],
   "source": [
    "price_rests"
   ]
  },
  {
   "cell_type": "code",
   "execution_count": 12,
   "metadata": {},
   "outputs": [],
   "source": [
    "#calculate number of pages using number of resturants\n",
    "pp_pages = dict()\n",
    "for pp in price_rests:\n",
    "    pages = (price_rests[pp]/30) + 1\n",
    "    pp_pages[pp] = int(pages)"
   ]
  },
  {
   "cell_type": "code",
   "execution_count": 13,
   "metadata": {},
   "outputs": [
    {
     "data": {
      "text/plain": [
       "{'inexp': 15, 'mod': 28, 'pricey': 4}"
      ]
     },
     "execution_count": 13,
     "metadata": {},
     "output_type": "execute_result"
    }
   ],
   "source": [
    "pp_pages"
   ]
  },
  {
   "cell_type": "markdown",
   "metadata": {},
   "source": [
    "## 2.0 Extract and Process all resturant names for each price point\n",
    "### 2.1 Cheapest price point (Inexp)"
   ]
  },
  {
   "cell_type": "code",
   "execution_count": 22,
   "metadata": {},
   "outputs": [
    {
     "data": {
      "text/plain": [
       "'https://www.yelp.com/search?find_desc=Restaurants&find_loc=western%20sydney&l=g%3A151.15106940214844%2C-33.67728783357405%2C150.7418286794922%2C-34.01944832216618&attrs=RestaurantsPriceRange2.1'"
      ]
     },
     "execution_count": 22,
     "metadata": {},
     "output_type": "execute_result"
    }
   ],
   "source": [
    "#first we construct all URLs\n",
    "inexp_page1"
   ]
  },
  {
   "cell_type": "code",
   "execution_count": 23,
   "metadata": {},
   "outputs": [],
   "source": [
    "secondpage = 'https://www.yelp.com/search?find_desc=Restaurants&find_loc=western%20sydney&l=g%3A151.15106940214844%2C-33.67728783357405%2C150.7418286794922%2C-34.01944832216618&attrs=RestaurantsPriceRange2.1&start=30'"
   ]
  },
  {
   "cell_type": "code",
   "execution_count": 24,
   "metadata": {},
   "outputs": [],
   "source": [
    "#After examining the URLs,'&start=30' is added to the end of the url for page 2 (30 is added for every page)\n",
    "page2 = inexp_page1 + '&start=30'"
   ]
  },
  {
   "cell_type": "code",
   "execution_count": 27,
   "metadata": {},
   "outputs": [
    {
     "data": {
      "text/plain": [
       "'https://www.yelp.com/search?find_desc=Restaurants&find_loc=western%20sydney&l=g%3A151.15106940214844%2C-33.67728783357405%2C150.7418286794922%2C-34.01944832216618&attrs=RestaurantsPriceRange2.1&start=30'"
      ]
     },
     "execution_count": 27,
     "metadata": {},
     "output_type": "execute_result"
    }
   ],
   "source": [
    "#The last page url of any price point is therefore constructed by adding '&start=(MaxPages-1)*30'\n",
    "page2"
   ]
  },
  {
   "cell_type": "code",
   "execution_count": 77,
   "metadata": {},
   "outputs": [],
   "source": [
    "#lets now save this as resturant count, page 2 = 30, page 3 = 60....page 15 = 420\n",
    "resturant_count = list()\n",
    "#declare another list to keep all scrapped dirty names from the inexp price point\n",
    "dirty_names = list()"
   ]
  },
  {
   "cell_type": "code",
   "execution_count": 78,
   "metadata": {},
   "outputs": [],
   "source": [
    "for x in range(1,15):\n",
    "    resturant_count.append(str((x*30)))"
   ]
  },
  {
   "cell_type": "code",
   "execution_count": 79,
   "metadata": {},
   "outputs": [],
   "source": [
    "#Get resturant names from each page, start with page 1 then loop through the rest\n",
    "response = requests.get(inexp_page1)\n",
    "content = response.content\n",
    "copycontent = str(content)\n",
    "dirtynames = re.findall('reviewCount\":[0-9],\"name\":\".{23}',copycontent)\n",
    "dirty_names.append(dirtynames)\n",
    "for count in resturant_count:\n",
    "    new_page = inexp_page1 + '&start=' + count\n",
    "    response = requests.get(new_page)\n",
    "    content = response.content\n",
    "    copycontent = str(content)\n",
    "    dirtynames = list()\n",
    "    dirtynames = re.findall('reviewCount\":[0-9],\"name\":\".{23}',copycontent)\n",
    "    dirty_names.append(dirtynames)"
   ]
  },
  {
   "cell_type": "code",
   "execution_count": 54,
   "metadata": {},
   "outputs": [
    {
     "data": {
      "text/plain": [
       "list"
      ]
     },
     "execution_count": 54,
     "metadata": {},
     "output_type": "execute_result"
    }
   ],
   "source": [
    "type(dirtynames)"
   ]
  },
  {
   "cell_type": "code",
   "execution_count": 58,
   "metadata": {},
   "outputs": [],
   "source": [
    "for count in resturant_count:\n",
    "    print(count)"
   ]
  },
  {
   "cell_type": "code",
   "execution_count": 81,
   "metadata": {},
   "outputs": [
    {
     "data": {
      "text/plain": [
       "22"
      ]
     },
     "execution_count": 81,
     "metadata": {},
     "output_type": "execute_result"
    }
   ],
   "source": [
    "len(dirty_names[0])"
   ]
  },
  {
   "cell_type": "code",
   "execution_count": 75,
   "metadata": {},
   "outputs": [
    {
     "data": {
      "text/plain": [
       "'https://www.yelp.com/search?find_desc=Restaurants&find_loc=western%20sydney&l=g%3A151.15106940214844%2C-33.67728783357405%2C150.7418286794922%2C-34.01944832216618&attrs=RestaurantsPriceRange2.1'"
      ]
     },
     "execution_count": 75,
     "metadata": {},
     "output_type": "execute_result"
    }
   ],
   "source": [
    "inexp_page1"
   ]
  },
  {
   "cell_type": "code",
   "execution_count": 82,
   "metadata": {},
   "outputs": [
    {
     "data": {
      "text/plain": [
       "['reviewCount\":5,\"name\":\"Frango\",\"neighborhoods\"',\n",
       " 'reviewCount\":3,\"name\":\"Aldhiaffah Al-Iraqi Res',\n",
       " 'reviewCount\":2,\"name\":\"Darband Restaurant\",\"ne',\n",
       " 'reviewCount\":2,\"name\":\"Pho Ba Le Vietnamese No',\n",
       " 'reviewCount\":1,\"name\":\"Al Shami - Syrian &amp;',\n",
       " 'reviewCount\":8,\"name\":\"Hawa Charcoal Chicken\",',\n",
       " 'reviewCount\":4,\"name\":\"Awafi Charcoal Chicken\"',\n",
       " 'reviewCount\":4,\"name\":\"Gourmet Noodle House\",\"',\n",
       " 'reviewCount\":8,\"name\":\"Pho Sam Noodle House\",\"',\n",
       " 'reviewCount\":6,\"name\":\"El Jannah\",\"neighborhoo',\n",
       " 'reviewCount\":7,\"name\":\"Pho Mai\",\"neighborhoods',\n",
       " 'reviewCount\":8,\"name\":\"New Star Kebabs\",\"neigh',\n",
       " 'reviewCount\":3,\"name\":\"Banh Cuon Kim Thanh\",\"n',\n",
       " 'reviewCount\":8,\"name\":\"El Burger\",\"neighborhoo',\n",
       " 'reviewCount\":2,\"name\":\"Mr Happy Chef Noodle Ho',\n",
       " 'reviewCount\":3,\"name\":\"Chubby Buns Burger\",\"ne',\n",
       " 'reviewCount\":6,\"name\":\"Mr Ping\\\\xe2\\\\x80\\\\x99s\",\"',\n",
       " 'reviewCount\":7,\"name\":\"Pho Saigon\",\"neighborho',\n",
       " 'reviewCount\":3,\"name\":\"Lucky Thai &amp; Lao Re',\n",
       " 'reviewCount\":8,\"name\":\"Knafeh\",\"neighborhoods\"',\n",
       " 'reviewCount\":1,\"name\":\"Industrial Harvest\",\"ne',\n",
       " 'reviewCount\":1,\"name\":\"S Biber &amp; T Biber\",']"
      ]
     },
     "execution_count": 82,
     "metadata": {},
     "output_type": "execute_result"
    }
   ],
   "source": [
    "dirty_names[0]"
   ]
  },
  {
   "cell_type": "code",
   "execution_count": 87,
   "metadata": {},
   "outputs": [
    {
     "name": "stdout",
     "output_type": "stream",
     "text": [
      "22\n",
      "27\n",
      "30\n",
      "30\n",
      "28\n",
      "27\n",
      "28\n",
      "30\n",
      "30\n",
      "30\n",
      "30\n",
      "30\n",
      "30\n",
      "30\n",
      "27\n"
     ]
    }
   ],
   "source": [
    "suma = 0\n",
    "for name in dirty_names:\n",
    "    suma = suma + len(name)\n",
    "    print(len(name))"
   ]
  },
  {
   "cell_type": "code",
   "execution_count": 88,
   "metadata": {},
   "outputs": [
    {
     "data": {
      "text/plain": [
       "429"
      ]
     },
     "execution_count": 88,
     "metadata": {},
     "output_type": "execute_result"
    }
   ],
   "source": [
    "suma"
   ]
  },
  {
   "cell_type": "code",
   "execution_count": null,
   "metadata": {},
   "outputs": [],
   "source": []
  }
 ],
 "metadata": {
  "kernelspec": {
   "display_name": "Python 3",
   "language": "python",
   "name": "python3"
  },
  "language_info": {
   "codemirror_mode": {
    "name": "ipython",
    "version": 3
   },
   "file_extension": ".py",
   "mimetype": "text/x-python",
   "name": "python",
   "nbconvert_exporter": "python",
   "pygments_lexer": "ipython3",
   "version": "3.7.0"
  }
 },
 "nbformat": 4,
 "nbformat_minor": 2
}
