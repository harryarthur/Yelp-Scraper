{
 "cells": [
  {
   "cell_type": "code",
   "execution_count": 2,
   "metadata": {},
   "outputs": [],
   "source": [
    "import requests\n",
    "import csv\n",
    "import re\n",
    "import pandas as pd\n",
    "import time\n",
    "from bs4 import BeautifulSoup\n",
    "import os\n",
    "from numpy import arange"
   ]
  },
  {
   "cell_type": "code",
   "execution_count": 12,
   "metadata": {},
   "outputs": [],
   "source": [
    "inexp_page1 = 'https://www.yelp.com/search?find_desc=Restaurants&find_loc=western%20sydney&l=g%3A151.15106940214844%2C-33.67728783357405%2C150.7418286794922%2C-34.01944832216618&attrs=RestaurantsPriceRange2.1'"
   ]
  },
  {
   "cell_type": "code",
   "execution_count": 13,
   "metadata": {},
   "outputs": [],
   "source": [
    "mod_page1 = 'https://www.yelp.com/search?find_desc=Restaurants&find_loc=western%20sydney&l=g%3A151.15106940214844%2C-33.67728783357405%2C150.7418286794922%2C-34.01944832216618&attrs=RestaurantsPriceRange2.2&ed_attrs=RestaurantsPriceRange2.1%2CRestaurantsPriceRange2.2'"
   ]
  },
  {
   "cell_type": "markdown",
   "metadata": {},
   "source": [
    "***Pages of reviews for each resturant*** <br>\n",
    "1) We can use all characters between \"datePublished.....and... /iv>\" to capture the actual texts of reviews <br>\n",
    "2) We can also use \"ratingValue\" content=\" as a marker for star rating <br>\n",
    "3) we will have to use the total number of reviews (found in plain html on the first page of all resturants) to calculate how many pages of reviews (assuming 20 reviews per page) "
   ]
  },
  {
   "cell_type": "markdown",
   "metadata": {},
   "source": [
    "***Pages of resturants for each price point***<br>\n",
    "1) We can calculate total pages by using the total number of resturants (found in plain html at the top of each price point page) and then we assume 30 resturants per page <br>\n",
    "2) We will have to also scrape all resturant names first and convert to all small case with dashes put between each word and punctuation marks removed in order to construct URLs for individual resturants for pre-review scraping <br>\n",
    "3) We can use \"ranking\".....\"name\"......\"neighbohoods\" as markers for each resturant name we have to scrape and process"
   ]
  },
  {
   "cell_type": "markdown",
   "metadata": {},
   "source": [
    "***Scrapper Pseudo Code***<br>\n",
    "1- Calculate the number of pages of resturants each price point has <br>\n",
    "2- Extract and process all resturant names for each price point <br>\n",
    "3- Calculate the number of pages of reviews each resturant has <br>\n",
    "4- Use numbers from above to establish dataframes and loops <br>\n",
    "5- Finally scrape all reviews and star ratings into 4 seperate dataframes, one for each price point </br>"
   ]
  },
  {
   "cell_type": "code",
   "execution_count": 73,
   "metadata": {},
   "outputs": [],
   "source": [
    "#Put price point pages in list\n",
    "price_points = list()\n",
    "price_points.append(inexp_page1)\n",
    "price_points.append(mod_page1)\n",
    "price_points.append(pricey_page1)"
   ]
  },
  {
   "cell_type": "code",
   "execution_count": 74,
   "metadata": {},
   "outputs": [],
   "source": [
    "#list for resturants in each price point\n",
    "pp_rest = list()"
   ]
  },
  {
   "cell_type": "code",
   "execution_count": 75,
   "metadata": {},
   "outputs": [],
   "source": [
    "#get number of pages of resturants for each price point\n",
    "for price_point in price_points:\n",
    "    response = requests.get(price_point)\n",
    "    content = response.content\n",
    "    pp_rest.append(re.findall('Showing 1-30 of....',str(content)))"
   ]
  },
  {
   "cell_type": "code",
   "execution_count": 76,
   "metadata": {},
   "outputs": [
    {
     "data": {
      "text/plain": [
       "[['Showing 1-30 of 447'], ['Showing 1-30 of 819'], ['Showing 1-30 of 107']]"
      ]
     },
     "execution_count": 76,
     "metadata": {},
     "output_type": "execute_result"
    }
   ],
   "source": [
    "pp_rest"
   ]
  },
  {
   "cell_type": "code",
   "execution_count": 77,
   "metadata": {},
   "outputs": [],
   "source": [
    "#dictionary for pages\n",
    "price_rests = dict()\n",
    "#extract last 3 numbers\n",
    "pp_rest[0] = str(pp_pages[0])\n",
    "rests = re.findall('[0-9]{3}',str(pp_pages[0]))\n",
    "rests = str(rests)\n",
    "rests = rests[2:5]\n",
    "price_rests['inexp'] = int(rests)\n",
    "#---------------------------------------\n",
    "pp_rest[1] = str(pp_pages[1])\n",
    "rests = re.findall('[0-9]{3}',str(pp_pages[1]))\n",
    "rests = str(rests)\n",
    "rests = rests[2:5]\n",
    "price_rests['mod'] = int(rests)\n",
    "#---------------------------------------\n",
    "pp_rest[2] = str(pp_pages[2])\n",
    "rests = re.findall('[0-9]{3}',str(pp_pages[2]))\n",
    "rests = str(rests)\n",
    "rests = rests[2:5]\n",
    "price_rests['pricey'] = int(rests)"
   ]
  },
  {
   "cell_type": "code",
   "execution_count": 79,
   "metadata": {},
   "outputs": [
    {
     "data": {
      "text/plain": [
       "{'inexp': 447, 'mod': 819, 'pricey': 107}"
      ]
     },
     "execution_count": 79,
     "metadata": {},
     "output_type": "execute_result"
    }
   ],
   "source": [
    "price_rests"
   ]
  },
  {
   "cell_type": "code",
   "execution_count": 86,
   "metadata": {},
   "outputs": [],
   "source": [
    "#calculate number of pages using number of resturants\n",
    "pp_pages = dict()\n",
    "for pp in price_rests:\n",
    "    pages = (price_rests[pp]/30) + 1\n",
    "    pp_pages[pp] = int(pages)"
   ]
  },
  {
   "cell_type": "code",
   "execution_count": 87,
   "metadata": {},
   "outputs": [
    {
     "data": {
      "text/plain": [
       "{'inexp': 15, 'mod': 28, 'pricey': 4}"
      ]
     },
     "execution_count": 87,
     "metadata": {},
     "output_type": "execute_result"
    }
   ],
   "source": [
    "pp_pages"
   ]
  },
  {
   "cell_type": "code",
   "execution_count": null,
   "metadata": {},
   "outputs": [],
   "source": []
  },
  {
   "cell_type": "code",
   "execution_count": null,
   "metadata": {},
   "outputs": [],
   "source": []
  },
  {
   "cell_type": "code",
   "execution_count": null,
   "metadata": {},
   "outputs": [],
   "source": []
  },
  {
   "cell_type": "code",
   "execution_count": null,
   "metadata": {},
   "outputs": [],
   "source": []
  }
 ],
 "metadata": {
  "kernelspec": {
   "display_name": "Python 3",
   "language": "python",
   "name": "python3"
  },
  "language_info": {
   "codemirror_mode": {
    "name": "ipython",
    "version": 3
   },
   "file_extension": ".py",
   "mimetype": "text/x-python",
   "name": "python",
   "nbconvert_exporter": "python",
   "pygments_lexer": "ipython3",
   "version": "3.7.0"
  }
 },
 "nbformat": 4,
 "nbformat_minor": 2
}
